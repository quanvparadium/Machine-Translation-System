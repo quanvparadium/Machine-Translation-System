{
 "cells": [
  {
   "cell_type": "code",
   "execution_count": 1,
   "metadata": {},
   "outputs": [],
   "source": [
    "import numpy as np"
   ]
  },
  {
   "cell_type": "code",
   "execution_count": 3,
   "metadata": {},
   "outputs": [],
   "source": [
    "# define a sentence of 10 words over a vocab of 5 words\n",
    "data = [[0.1, 0.2, 0.3, 0.4, 0.5],\n",
    "    [0.5, 0.4, 0.3, 0.2, 0.1],\n",
    "    [0.1, 0.2, 0.3, 0.4, 0.5],\n",
    "    [0.5, 0.4, 0.3, 0.2, 0.1],\n",
    "    [0.1, 0.2, 0.3, 0.4, 0.5],\n",
    "    [0.5, 0.4, 0.3, 0.2, 0.1],\n",
    "    [0.1, 0.2, 0.3, 0.4, 0.5],\n",
    "    [0.5, 0.4, 0.3, 0.2, 0.1],\n",
    "    [0.1, 0.2, 0.3, 0.4, 0.5],\n",
    "    [0.5, 0.4, 0.3, 0.2, 0.1]]\n",
    "data = np.array(data)"
   ]
  },
  {
   "cell_type": "code",
   "execution_count": 4,
   "metadata": {},
   "outputs": [
    {
     "name": "stdout",
     "output_type": "stream",
     "text": [
      "[4, 0, 4, 0, 4, 0, 4, 0, 4, 0]\n"
     ]
    }
   ],
   "source": [
    "def greedy_search_decode(data):\n",
    "    # index for largest probability each row\n",
    "    return [np.argmax(s) for s in data]\n",
    "\n",
    "print(greedy_search_decode(data))"
   ]
  },
  {
   "cell_type": "code",
   "execution_count": 11,
   "metadata": {},
   "outputs": [
    {
     "name": "stdout",
     "output_type": "stream",
     "text": [
      "[[4, 0, 4, 0, 4, 0, 4, 0, 4, 0], -6.931471805599453]\n",
      "[[4, 0, 4, 0, 4, 0, 4, 0, 4, 1], -7.154615356913663]\n",
      "[[4, 0, 4, 0, 4, 0, 4, 0, 3, 0], -7.154615356913663]\n"
     ]
    }
   ],
   "source": [
    "from math import log\n",
    "\n",
    "# beam search\n",
    "def beam_search_decoder(data, k):\n",
    "\tsequences = [[[], 0.0]]\n",
    "\t# walk over each step in sequence\n",
    "\tfor row in data:\n",
    "\t\tall_candidates = []\n",
    "\t\t# expand each current candidate\n",
    "\t\tfor i in range(len(sequences)):\n",
    "\t\t\tseq, score = sequences[i]\n",
    "\t\t\tfor j in range(len(row)):\n",
    "\t\t\t\tcandidate = [seq + [j], score + log(row[j])]\n",
    "\t\t\t\tall_candidates.append(candidate)\n",
    "\t\t# order all candidates by score\n",
    "\t\tordered = sorted(all_candidates, key=lambda tup:tup[1], reverse=True)\n",
    "\t\t# select k best\n",
    "\t\tsequences = ordered[:k]\n",
    "\treturn sequences\n",
    "\n",
    "# decode sequence\n",
    "result = beam_search_decoder(data, 3)\n",
    "# print result\n",
    "for seq in result:\n",
    "\tprint(seq)"
   ]
  }
 ],
 "metadata": {
  "kernelspec": {
   "display_name": "yolov7_custom",
   "language": "python",
   "name": "yolov7_custom"
  },
  "language_info": {
   "codemirror_mode": {
    "name": "ipython",
    "version": 3
   },
   "file_extension": ".py",
   "mimetype": "text/x-python",
   "name": "python",
   "nbconvert_exporter": "python",
   "pygments_lexer": "ipython3",
   "version": "3.9.18"
  }
 },
 "nbformat": 4,
 "nbformat_minor": 2
}
